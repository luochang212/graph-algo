{
 "cells": [
  {
   "cell_type": "markdown",
   "id": "901ddba3",
   "metadata": {},
   "source": [
    "# Node Classification\n",
    "\n",
    "链接：https://docs.dgl.ai/tutorials/blitz/1_introduction.html#sphx-glr-tutorials-blitz-1-introduction-py"
   ]
  },
  {
   "cell_type": "code",
   "execution_count": 3,
   "id": "c53d381c",
   "metadata": {},
   "outputs": [],
   "source": [
    "# !pip install dgl"
   ]
  },
  {
   "cell_type": "code",
   "execution_count": 4,
   "id": "1a1c753a",
   "metadata": {},
   "outputs": [],
   "source": [
    "import os\n",
    "\n",
    "os.environ[\"DGLBACKEND\"] = \"pytorch\"\n",
    "import dgl\n",
    "import dgl.data\n",
    "import torch\n",
    "import torch.nn as nn\n",
    "import torch.nn.functional as F"
   ]
  },
  {
   "cell_type": "code",
   "execution_count": 5,
   "id": "0d8c5613",
   "metadata": {},
   "outputs": [
    {
     "name": "stdout",
     "output_type": "stream",
     "text": [
      "Downloading /Users/changluo/.dgl/cora_v2.zip from https://data.dgl.ai/dataset/cora_v2.zip...\n",
      "Extracting file to /Users/changluo/.dgl/cora_v2_d697a464\n",
      "Finished data loading and preprocessing.\n",
      "  NumNodes: 2708\n",
      "  NumEdges: 10556\n",
      "  NumFeats: 1433\n",
      "  NumClasses: 7\n",
      "  NumTrainingSamples: 140\n",
      "  NumValidationSamples: 500\n",
      "  NumTestSamples: 1000\n",
      "Done saving data into cached files.\n",
      "Number of categories: 7\n"
     ]
    }
   ],
   "source": [
    "dataset = dgl.data.CoraGraphDataset()\n",
    "print(f\"Number of categories: {dataset.num_classes}\")"
   ]
  },
  {
   "cell_type": "code",
   "execution_count": 6,
   "id": "353d2da8",
   "metadata": {},
   "outputs": [],
   "source": [
    "g = dataset[0]"
   ]
  },
  {
   "cell_type": "code",
   "execution_count": 7,
   "id": "c848b481",
   "metadata": {},
   "outputs": [],
   "source": [
    "from dgl.nn import GraphConv\n",
    "\n",
    "\n",
    "class GCN(nn.Module):\n",
    "    def __init__(self, in_feats, h_feats, num_classes):\n",
    "        super(GCN, self).__init__()\n",
    "        self.conv1 = GraphConv(in_feats, h_feats)\n",
    "        self.conv2 = GraphConv(h_feats, num_classes)\n",
    "\n",
    "    def forward(self, g, in_feat):\n",
    "        h = self.conv1(g, in_feat)\n",
    "        h = F.relu(h)\n",
    "        h = self.conv2(g, h)\n",
    "        return h\n",
    "\n",
    "\n",
    "# Create the model with given dimensions\n",
    "model = GCN(g.ndata[\"feat\"].shape[1], 16, dataset.num_classes)"
   ]
  },
  {
   "cell_type": "code",
   "execution_count": 8,
   "id": "d0518c10",
   "metadata": {},
   "outputs": [
    {
     "name": "stdout",
     "output_type": "stream",
     "text": [
      "In epoch 0, loss: 1.946, val acc: 0.052 (best 0.052), test acc: 0.075 (best 0.075)\n",
      "In epoch 5, loss: 1.889, val acc: 0.470 (best 0.502), test acc: 0.490 (best 0.535)\n",
      "In epoch 10, loss: 1.799, val acc: 0.532 (best 0.532), test acc: 0.539 (best 0.539)\n",
      "In epoch 15, loss: 1.687, val acc: 0.576 (best 0.576), test acc: 0.581 (best 0.581)\n",
      "In epoch 20, loss: 1.554, val acc: 0.614 (best 0.614), test acc: 0.653 (best 0.653)\n",
      "In epoch 25, loss: 1.404, val acc: 0.648 (best 0.648), test acc: 0.674 (best 0.674)\n",
      "In epoch 30, loss: 1.244, val acc: 0.666 (best 0.666), test acc: 0.685 (best 0.685)\n",
      "In epoch 35, loss: 1.079, val acc: 0.690 (best 0.690), test acc: 0.703 (best 0.700)\n",
      "In epoch 40, loss: 0.918, val acc: 0.706 (best 0.706), test acc: 0.716 (best 0.716)\n",
      "In epoch 45, loss: 0.766, val acc: 0.724 (best 0.724), test acc: 0.733 (best 0.733)\n",
      "In epoch 50, loss: 0.628, val acc: 0.740 (best 0.740), test acc: 0.736 (best 0.735)\n",
      "In epoch 55, loss: 0.510, val acc: 0.748 (best 0.748), test acc: 0.746 (best 0.742)\n",
      "In epoch 60, loss: 0.411, val acc: 0.752 (best 0.752), test acc: 0.756 (best 0.749)\n",
      "In epoch 65, loss: 0.332, val acc: 0.750 (best 0.752), test acc: 0.764 (best 0.749)\n",
      "In epoch 70, loss: 0.268, val acc: 0.754 (best 0.754), test acc: 0.766 (best 0.766)\n",
      "In epoch 75, loss: 0.218, val acc: 0.758 (best 0.758), test acc: 0.774 (best 0.771)\n",
      "In epoch 80, loss: 0.179, val acc: 0.756 (best 0.758), test acc: 0.778 (best 0.771)\n",
      "In epoch 85, loss: 0.148, val acc: 0.758 (best 0.758), test acc: 0.775 (best 0.771)\n",
      "In epoch 90, loss: 0.124, val acc: 0.766 (best 0.766), test acc: 0.777 (best 0.777)\n",
      "In epoch 95, loss: 0.105, val acc: 0.766 (best 0.766), test acc: 0.777 (best 0.777)\n"
     ]
    }
   ],
   "source": [
    "def train(g, model):\n",
    "    optimizer = torch.optim.Adam(model.parameters(), lr=0.01)\n",
    "    best_val_acc = 0\n",
    "    best_test_acc = 0\n",
    "\n",
    "    features = g.ndata[\"feat\"]\n",
    "    labels = g.ndata[\"label\"]\n",
    "    train_mask = g.ndata[\"train_mask\"]\n",
    "    val_mask = g.ndata[\"val_mask\"]\n",
    "    test_mask = g.ndata[\"test_mask\"]\n",
    "    for e in range(100):\n",
    "        # Forward\n",
    "        logits = model(g, features)\n",
    "\n",
    "        # Compute prediction\n",
    "        pred = logits.argmax(1)\n",
    "\n",
    "        # Compute loss\n",
    "        # Note that you should only compute the losses of the nodes in the training set.\n",
    "        loss = F.cross_entropy(logits[train_mask], labels[train_mask])\n",
    "\n",
    "        # Compute accuracy on training/validation/test\n",
    "        train_acc = (pred[train_mask] == labels[train_mask]).float().mean()\n",
    "        val_acc = (pred[val_mask] == labels[val_mask]).float().mean()\n",
    "        test_acc = (pred[test_mask] == labels[test_mask]).float().mean()\n",
    "\n",
    "        # Save the best validation accuracy and the corresponding test accuracy.\n",
    "        if best_val_acc < val_acc:\n",
    "            best_val_acc = val_acc\n",
    "            best_test_acc = test_acc\n",
    "\n",
    "        # Backward\n",
    "        optimizer.zero_grad()\n",
    "        loss.backward()\n",
    "        optimizer.step()\n",
    "\n",
    "        if e % 5 == 0:\n",
    "            print(\n",
    "                f\"In epoch {e}, loss: {loss:.3f}, val acc: {val_acc:.3f} (best {best_val_acc:.3f}), test acc: {test_acc:.3f} (best {best_test_acc:.3f})\"\n",
    "            )\n",
    "\n",
    "\n",
    "model = GCN(g.ndata[\"feat\"].shape[1], 16, dataset.num_classes)\n",
    "train(g, model)"
   ]
  },
  {
   "cell_type": "markdown",
   "id": "cdac226c",
   "metadata": {},
   "source": [
    "Training on GPU"
   ]
  },
  {
   "cell_type": "code",
   "execution_count": null,
   "id": "f92cb6e0",
   "metadata": {},
   "outputs": [],
   "source": [
    "# g = g.to('cuda')\n",
    "# model = GCN(g.ndata['feat'].shape[1], 16, dataset.num_classes).to('cuda')\n",
    "# train(g, model)"
   ]
  }
 ],
 "metadata": {
  "kernelspec": {
   "display_name": "Python 3 (ipykernel)",
   "language": "python",
   "name": "python3"
  },
  "language_info": {
   "codemirror_mode": {
    "name": "ipython",
    "version": 3
   },
   "file_extension": ".py",
   "mimetype": "text/x-python",
   "name": "python",
   "nbconvert_exporter": "python",
   "pygments_lexer": "ipython3",
   "version": "3.11.4"
  }
 },
 "nbformat": 4,
 "nbformat_minor": 5
}
